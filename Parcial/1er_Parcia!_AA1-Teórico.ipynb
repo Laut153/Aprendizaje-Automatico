{
 "cells": [
  {
   "cell_type": "markdown",
   "metadata": {},
   "source": [
    "# Materia: Aprendizaje Automático 1"
   ]
  },
  {
   "cell_type": "markdown",
   "metadata": {},
   "source": [
    "# 1er Instancia Evaluativa  - Parte Teórica"
   ]
  },
  {
   "cell_type": "markdown",
   "metadata": {},
   "source": [
    "1 - Indique cuando un modelo de Machine Learning es Paramétrico y cuando es NO Paramético"
   ]
  }
   "cell_type": "markdown",
   "metadata": {},
   "source": [
    "Indique su rta"
   ]
  },,Un Modelo de Machine Learning es Paramétrico cuando todos sus datos de entrada pueden distribuirse  con una probabilidad que se puede explicar y describir medianteun conjunto de parámetros.Por el contrario No es Paramétrico, cuando la complejidad y descripción de la distribución de los datos en el espacio dado, crece a medida que aumentan las observaciones,lo que puede afectar la capacidad predicitiva del modelo.  
  {
  {
   "cell_type": "markdown",
   "metadata": {},
   "source": [
    "2 - Dado un set de datos cualquiers, indique los pasos necesarios para poder resolver un problema con Machine Learning."
   ]
  },1-Llamar al set de datos y nombrarlo
    2-Separarlo en 2 dimensiones: x (variables dependientes) e y (variable target a medir)
    3-Dividir el Set de x en Train y Test (80/20) generalmente, para entrenar y predecir.
    4-Elegir el modelo según la naturaleza de los datos, con sklearn.
    5-Entrenar el modelo con instrucción modelo.fit (donde se pasa x_train e y_train)
    6-Predecir variables con modelo.predict (donde se pasa x_test y se guarda como y_pred)
    7-correr y_test y comparar resultados
  { 7-Evaluar la predicción con accuracy_score (donde se pasa y_pred e y_test)
  
   "cell_type": "markdown",
   "metadata": {},
   "source": [
    "Indique su rta"
   ]
  },
  {
   "cell_type": "markdown",
   "metadata": {},
   "source": [
    "3 - Ud resliza la division de su set de datos en 4 parte: X_train, X_test, y_train, y_test. Indique para que realiza esta división y en que partes del proceso indicado en la respuesta 2 se utizan."
   ]
  },
  {
   "cell_type": "markdown",
   "metadata": {},
   "source": [
    "Indique su rta"
   ]
  },Realizo esta separación porque del total de datos, un porcentaje sirve para entrenar el modelo  y otro  para predecir y evaluar. Con x_train y_train, entreno en .fit, con x_test predigo en .predict y con y_test evalúo y mido ambos resultados en accuracy_score.
  {
   "cell_type": "markdown",
   "metadata": {},
   "source": [
    "4 - ¿Porque la Malidición de la Dimensionalidad es una Maldicion en Machine LEarning?"
   ]
  },
   "cell_type": "markdown",
   "metadata": {},
   "source": [
    "Indique su rta"
   ]Porque a medida que aumento las observaciones para mejorar el entrenamiento, pierde capacidad de predicción el modelo. Puede suceder en modelos no paramétricos cuando aumento cantidad de observaciones o cuando tengo valores muy equidistantes en modelos paramétricos.
  {
  }
 ],
 "metadata": {
  "hide_input": false,
  "interpreter": {
   "hash": "ab2626a3f7ab06f191ab5bb1559a4433531d354e622cd9a2bbb40492787a98c9"
  },
  "kernelspec": {
   "display_name": "Python 3.9.7 ('base')",
   "language": "python",
   "name": "python3"
  },
  "language_info": {
   "codemirror_mode": {
    "name": "ipython",
    "version": 3
   },
   "file_extension": ".py",
   "mimetype": "text/x-python",
   "name": "python",
   "nbconvert_exporter": "python",
   "pygments_lexer": "ipython3",
   "version": "3.9.7"
  },
  "toc": {
   "base_numbering": 1,
   "nav_menu": {},
   "number_sections": true,
   "sideBar": true,
   "skip_h1_title": true,
   "title_cell": "Tabla de Contenidos",
   "title_sidebar": "Contenidos",
   "toc_cell": false,
   "toc_position": {
    "height": "calc(100% - 180px)",
    "left": "10px",
    "top": "150px",
    "width": "165px"
   },
   "toc_section_display": true,
   "toc_window_display": true
  }
 },
 "nbformat": 4,
 "nbformat_minor": 4
}
