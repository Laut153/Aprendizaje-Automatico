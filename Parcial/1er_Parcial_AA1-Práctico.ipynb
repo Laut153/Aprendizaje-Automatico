{
 "cells": [
  {
   "cell_type": "markdown",
   "metadata": {
    "id": "Ou_RMUFDKJWO"
   },
   "source": [
    "# Materia: Aprendizaje Automático 1"
   ]
  },
  {
   "cell_type": "markdown",
   "metadata": {
    "id": "wjDBp1jOKJWR"
   },
   "source": [
    "# 1er Instancia Evaluativa  - Parte Práctica"
   ]
  },
  {
   "cell_type": "markdown",
   "metadata": {
    "id": "qInWSFqXKJWS"
   },
   "source": [
    "# Consigna:  \n",
    "    \n",
    "Dado el DataSet winequality-white.csv (guardado en la carpeta **data**) ud deberá encontrar en MEJOR MODELO teniendo en cuenta que el tiempo de proceso y la capacidad de cómputo son de suma importancia. Para ello será necesario que encuente los 10 mejores resultados y que indique (a su entender) cual sería el modelo y los hiperparámetros mas óptimos segun la premisa y cual de esos 10 resultados sería el que preferiría utilizar para resolver el caso: \n",
    "\n",
    "## A tener en cuenta\n",
    "\n",
    "- Analice los datos en profundidad, evalue si se trata de una problema de clasificaion o regresion y comente sus conclusiones. Toda descripcion debe estar demostrada con lineas de código que lo asistan en sus conclusiones. \n",
    "\n",
    "- Seleccionar el modelo que mejor **AC** obtenga sobre él. Aplique todos los modelos que conozca o crea conveniente utilizar.   \n",
    "\n",
    "- Cuando sea necesario randomizar usar semilla = 123, para dividir dataset usar proporción 80/20. \n",
    "\n",
    "- Incluya un resumen con los hiperparámetros y resultados de evaluación del modelo elegido.\n",
    "\n",
    "- No olvide que, dado que el resultado de su trabajo debe utilizarse en una aplicacion on line, el tiempo de procesamiento y al capacidad de cómputo son de suma importancia. Es por ello que se prefiere perder **precisión** en pos de **celeridad** en el resultado.\n",
    "\n",
    "- Comente todo su código indicando lo que va haciendo y porque lo va haciendo. Recuerque que puede generar lineas de Markdown o utilizar el # para escribir sus comentarios en lineas de Código."
   ]
  },
  {
   "cell_type": "code",
   "execution_count": 1,
   "metadata": {
    "ExecuteTime": {
     "end_time": "2020-07-01T00:15:11.540391Z",
     "start_time": "2020-07-01T00:15:11.536390Z"
    },
    "id": "nArpD4vTKJWU"
   },
   "outputs": [],
   "source": [
    "import numpy as np\n",
    "import pandas as pd"
   ]
  },
  {
   "cell_type": "markdown",
   "metadata": {
    "id": "TuMUXXSwKJWV"
   },
   "source": [
    "## Carga de los datos:\n",
    "\n",
    "Cargue los datos en un DataFrame, llámelo df:"
   ]
  },
  {
   "cell_type": "code",
   "execution_count": 2,
   "metadata": {},
   "outputs": [
    {
     "data": {
      "text/html": [
       "<div>\n",
       "<style scoped>\n",
       "    .dataframe tbody tr th:only-of-type {\n",
       "        vertical-align: middle;\n",
       "    }\n",
       "\n",
       "    .dataframe tbody tr th {\n",
       "        vertical-align: top;\n",
       "    }\n",
       "\n",
       "    .dataframe thead th {\n",
       "        text-align: right;\n",
       "    }\n",
       "</style>\n",
       "<table border=\"1\" class=\"dataframe\">\n",
       "  <thead>\n",
       "    <tr style=\"text-align: right;\">\n",
       "      <th></th>\n",
       "      <th>fixed acidity</th>\n",
       "      <th>volatile acidity</th>\n",
       "      <th>citric acid</th>\n",
       "      <th>residual sugar</th>\n",
       "      <th>chlorides</th>\n",
       "      <th>free sulfur dioxide</th>\n",
       "      <th>total sulfur dioxide</th>\n",
       "      <th>density</th>\n",
       "      <th>pH</th>\n",
       "      <th>sulphates</th>\n",
       "      <th>alcohol</th>\n",
       "      <th>quality</th>\n",
       "    </tr>\n",
       "  </thead>\n",
       "  <tbody>\n",
       "    <tr>\n",
       "      <th>0</th>\n",
       "      <td>7.0</td>\n",
       "      <td>0.27</td>\n",
       "      <td>0.36</td>\n",
       "      <td>20.7</td>\n",
       "      <td>0.045</td>\n",
       "      <td>45.0</td>\n",
       "      <td>170.0</td>\n",
       "      <td>1.00100</td>\n",
       "      <td>3.00</td>\n",
       "      <td>0.45</td>\n",
       "      <td>8.8</td>\n",
       "      <td>6</td>\n",
       "    </tr>\n",
       "    <tr>\n",
       "      <th>1</th>\n",
       "      <td>6.3</td>\n",
       "      <td>0.30</td>\n",
       "      <td>0.34</td>\n",
       "      <td>1.6</td>\n",
       "      <td>0.049</td>\n",
       "      <td>14.0</td>\n",
       "      <td>132.0</td>\n",
       "      <td>0.99400</td>\n",
       "      <td>3.30</td>\n",
       "      <td>0.49</td>\n",
       "      <td>9.5</td>\n",
       "      <td>6</td>\n",
       "    </tr>\n",
       "    <tr>\n",
       "      <th>2</th>\n",
       "      <td>8.1</td>\n",
       "      <td>0.28</td>\n",
       "      <td>0.40</td>\n",
       "      <td>6.9</td>\n",
       "      <td>0.050</td>\n",
       "      <td>30.0</td>\n",
       "      <td>97.0</td>\n",
       "      <td>0.99510</td>\n",
       "      <td>3.26</td>\n",
       "      <td>0.44</td>\n",
       "      <td>10.1</td>\n",
       "      <td>6</td>\n",
       "    </tr>\n",
       "    <tr>\n",
       "      <th>3</th>\n",
       "      <td>7.2</td>\n",
       "      <td>0.23</td>\n",
       "      <td>0.32</td>\n",
       "      <td>8.5</td>\n",
       "      <td>0.058</td>\n",
       "      <td>47.0</td>\n",
       "      <td>186.0</td>\n",
       "      <td>0.99560</td>\n",
       "      <td>3.19</td>\n",
       "      <td>0.40</td>\n",
       "      <td>9.9</td>\n",
       "      <td>6</td>\n",
       "    </tr>\n",
       "    <tr>\n",
       "      <th>4</th>\n",
       "      <td>7.2</td>\n",
       "      <td>0.23</td>\n",
       "      <td>0.32</td>\n",
       "      <td>8.5</td>\n",
       "      <td>0.058</td>\n",
       "      <td>47.0</td>\n",
       "      <td>186.0</td>\n",
       "      <td>0.99560</td>\n",
       "      <td>3.19</td>\n",
       "      <td>0.40</td>\n",
       "      <td>9.9</td>\n",
       "      <td>6</td>\n",
       "    </tr>\n",
       "    <tr>\n",
       "      <th>...</th>\n",
       "      <td>...</td>\n",
       "      <td>...</td>\n",
       "      <td>...</td>\n",
       "      <td>...</td>\n",
       "      <td>...</td>\n",
       "      <td>...</td>\n",
       "      <td>...</td>\n",
       "      <td>...</td>\n",
       "      <td>...</td>\n",
       "      <td>...</td>\n",
       "      <td>...</td>\n",
       "      <td>...</td>\n",
       "    </tr>\n",
       "    <tr>\n",
       "      <th>4893</th>\n",
       "      <td>6.2</td>\n",
       "      <td>0.21</td>\n",
       "      <td>0.29</td>\n",
       "      <td>1.6</td>\n",
       "      <td>0.039</td>\n",
       "      <td>24.0</td>\n",
       "      <td>92.0</td>\n",
       "      <td>0.99114</td>\n",
       "      <td>3.27</td>\n",
       "      <td>0.50</td>\n",
       "      <td>11.2</td>\n",
       "      <td>6</td>\n",
       "    </tr>\n",
       "    <tr>\n",
       "      <th>4894</th>\n",
       "      <td>6.6</td>\n",
       "      <td>0.32</td>\n",
       "      <td>0.36</td>\n",
       "      <td>8.0</td>\n",
       "      <td>0.047</td>\n",
       "      <td>57.0</td>\n",
       "      <td>168.0</td>\n",
       "      <td>0.99490</td>\n",
       "      <td>3.15</td>\n",
       "      <td>0.46</td>\n",
       "      <td>9.6</td>\n",
       "      <td>5</td>\n",
       "    </tr>\n",
       "    <tr>\n",
       "      <th>4895</th>\n",
       "      <td>6.5</td>\n",
       "      <td>0.24</td>\n",
       "      <td>0.19</td>\n",
       "      <td>1.2</td>\n",
       "      <td>0.041</td>\n",
       "      <td>30.0</td>\n",
       "      <td>111.0</td>\n",
       "      <td>0.99254</td>\n",
       "      <td>2.99</td>\n",
       "      <td>0.46</td>\n",
       "      <td>9.4</td>\n",
       "      <td>6</td>\n",
       "    </tr>\n",
       "    <tr>\n",
       "      <th>4896</th>\n",
       "      <td>5.5</td>\n",
       "      <td>0.29</td>\n",
       "      <td>0.30</td>\n",
       "      <td>1.1</td>\n",
       "      <td>0.022</td>\n",
       "      <td>20.0</td>\n",
       "      <td>110.0</td>\n",
       "      <td>0.98869</td>\n",
       "      <td>3.34</td>\n",
       "      <td>0.38</td>\n",
       "      <td>12.8</td>\n",
       "      <td>7</td>\n",
       "    </tr>\n",
       "    <tr>\n",
       "      <th>4897</th>\n",
       "      <td>6.0</td>\n",
       "      <td>0.21</td>\n",
       "      <td>0.38</td>\n",
       "      <td>0.8</td>\n",
       "      <td>0.020</td>\n",
       "      <td>22.0</td>\n",
       "      <td>98.0</td>\n",
       "      <td>0.98941</td>\n",
       "      <td>3.26</td>\n",
       "      <td>0.32</td>\n",
       "      <td>11.8</td>\n",
       "      <td>6</td>\n",
       "    </tr>\n",
       "  </tbody>\n",
       "</table>\n",
       "<p>4898 rows × 12 columns</p>\n",
       "</div>"
      ],
      "text/plain": [
       "      fixed acidity  volatile acidity  citric acid  residual sugar  chlorides  \\\n",
       "0               7.0              0.27         0.36            20.7      0.045   \n",
       "1               6.3              0.30         0.34             1.6      0.049   \n",
       "2               8.1              0.28         0.40             6.9      0.050   \n",
       "3               7.2              0.23         0.32             8.5      0.058   \n",
       "4               7.2              0.23         0.32             8.5      0.058   \n",
       "...             ...               ...          ...             ...        ...   \n",
       "4893            6.2              0.21         0.29             1.6      0.039   \n",
       "4894            6.6              0.32         0.36             8.0      0.047   \n",
       "4895            6.5              0.24         0.19             1.2      0.041   \n",
       "4896            5.5              0.29         0.30             1.1      0.022   \n",
       "4897            6.0              0.21         0.38             0.8      0.020   \n",
       "\n",
       "      free sulfur dioxide  total sulfur dioxide  density    pH  sulphates  \\\n",
       "0                    45.0                 170.0  1.00100  3.00       0.45   \n",
       "1                    14.0                 132.0  0.99400  3.30       0.49   \n",
       "2                    30.0                  97.0  0.99510  3.26       0.44   \n",
       "3                    47.0                 186.0  0.99560  3.19       0.40   \n",
       "4                    47.0                 186.0  0.99560  3.19       0.40   \n",
       "...                   ...                   ...      ...   ...        ...   \n",
       "4893                 24.0                  92.0  0.99114  3.27       0.50   \n",
       "4894                 57.0                 168.0  0.99490  3.15       0.46   \n",
       "4895                 30.0                 111.0  0.99254  2.99       0.46   \n",
       "4896                 20.0                 110.0  0.98869  3.34       0.38   \n",
       "4897                 22.0                  98.0  0.98941  3.26       0.32   \n",
       "\n",
       "      alcohol  quality  \n",
       "0         8.8        6  \n",
       "1         9.5        6  \n",
       "2        10.1        6  \n",
       "3         9.9        6  \n",
       "4         9.9        6  \n",
       "...       ...      ...  \n",
       "4893     11.2        6  \n",
       "4894      9.6        5  \n",
       "4895      9.4        6  \n",
       "4896     12.8        7  \n",
       "4897     11.8        6  \n",
       "\n",
       "[4898 rows x 12 columns]"
      ]
     },
     "execution_count": 2,
     "metadata": {},
     "output_type": "execute_result"
    }
   ],
   "source": [
    "df= pd.read_csv(r'C:\\Users\\Usuario\\DOWNLOADS\\winequality-white.csv', sep=';')\n",
    "df"
   ]
  },
  {
   "cell_type": "code",
   "execution_count": 3,
   "metadata": {},
   "outputs": [
    {
     "data": {
      "text/plain": [
       "array([6, 5, 7, 8, 4, 3, 9], dtype=int64)"
      ]
     },
     "execution_count": 3,
     "metadata": {},
     "output_type": "execute_result"
    }
   ],
   "source": [
    "df.quality.unique()"
   ]
  },
  {
   "cell_type": "markdown",
   "metadata": {},
   "source": [
    "### De que tipo de problema se trata?"
   ]
  },
  {
   "cell_type": "markdown",
   "metadata": {},
   "source": [
    "Podemos decir que es un problema de clasificacion ya que el dataframe al hyacer uso de la instruccion .unique() en la culumna quality solo puede dar 7 valores enteros, cuya relacion indica que son parte de una clasificacion."
   ]
  },
  {
   "cell_type": "code",
   "execution_count": 4,
   "metadata": {},
   "outputs": [],
   "source": [
    "# A continuacion separamos nuestro dataframe en x e y, siendo x las features e y el target, y luego dividiremos de nuevo a x e \n",
    "# y creando así los bloques train y test de cada uno.\n",
    "from sklearn.model_selection import train_test_split\n",
    "x = df.drop(['quality'], axis=1)\n",
    "y = df.quality\n",
    "x_train,x_test,y_train,y_test=train_test_split(x,y,test_size=0.2, random_state=123)"
   ]
  },
  {
   "cell_type": "code",
   "execution_count": 5,
   "metadata": {},
   "outputs": [],
   "source": [
    "# Con el x_train y el y_train, los vuelvo a dividir y genero los validations que seran 4: Val_x_train,Val_x_test,Val_y_train y \n",
    "# Val_y_test\n",
    "Val_x_train,Val_x_test,Val_y_train,Val_y_test=train_test_split(x_train,y_train,test_size=0.2, random_state=123)"
   ]
  },
  {
   "cell_type": "markdown",
   "metadata": {},
   "source": [
    "###  Creacion y entrenamiento de los modelos"
   ]
  },
  {
   "cell_type": "markdown",
   "metadata": {},
   "source": [
    "Con los validations encontraré que modelo predice un mejor AC"
   ]
  },
  {
   "cell_type": "markdown",
   "metadata": {},
   "source": [
    "#### Modelo de arbol de decision"
   ]
  },
  {
   "cell_type": "code",
   "execution_count": 174,
   "metadata": {},
   "outputs": [
    {
     "data": {
      "text/plain": [
       "0.5752551020408163"
      ]
     },
     "execution_count": 174,
     "metadata": {},
     "output_type": "execute_result"
    }
   ],
   "source": [
    "# Creo el modelo de arbol de decision y lo entreno con los valores de val_x_train y val_y_train\n",
    "from sklearn.tree import DecisionTreeClassifier\n",
    "arbol=DecisionTreeClassifier(random_state=123, max_depth=100,max_features=0.5)\n",
    "arbol.fit(Val_x_train,Val_y_train)\n",
    "\n",
    "# Obtengo el Accuracy, para eso primero debo predecir valores de y solo con el val_x_test y luego a este resultado lo\n",
    "# comparo con val_y_test con la instruccion accuracy_score\n",
    "from sklearn.metrics import accuracy_score\n",
    "y_pred= arbol.predict(Val_x_test)\n",
    "acarbol=accuracy_score(Val_y_test,y_pred)\n",
    "acarbol"
   ]
  },
  {
   "cell_type": "code",
   "execution_count": null,
   "metadata": {},
   "outputs": [],
   "source": [
    "arbolvaldf=pd.DataFrame()"
   ]
  },
  {
   "cell_type": "code",
   "execution_count": null,
   "metadata": {},
   "outputs": [],
   "source": [
    "arbolvaldf"
   ]
  },
  {
   "cell_type": "code",
   "execution_count": 176,
   "metadata": {},
   "outputs": [
    {
     "ename": "TypeError",
     "evalue": "'>' not supported between instances of 'range' and 'float'",
     "output_type": "error",
     "traceback": [
      "\u001b[1;31m---------------------------------------------------------------------------\u001b[0m",
      "\u001b[1;31mTypeError\u001b[0m                                 Traceback (most recent call last)",
      "\u001b[1;32m~\\AppData\\Local\\Temp/ipykernel_8956/2110115008.py\u001b[0m in \u001b[0;36m<module>\u001b[1;34m\u001b[0m\n\u001b[0;32m     22\u001b[0m                                 \u001b[1;31m# Creo el modelo de KNN y lo entreno con los valores de val_x_train y val_y_train\u001b[0m\u001b[1;33m\u001b[0m\u001b[1;33m\u001b[0m\u001b[0m\n\u001b[0;32m     23\u001b[0m                                 \u001b[0marbol\u001b[0m\u001b[1;33m=\u001b[0m\u001b[0mDecisionTreeClassifier\u001b[0m\u001b[1;33m(\u001b[0m\u001b[0mrandom_state\u001b[0m\u001b[1;33m=\u001b[0m\u001b[1;36m123\u001b[0m\u001b[1;33m,\u001b[0m \u001b[0mcriterion\u001b[0m\u001b[1;33m=\u001b[0m\u001b[0mz\u001b[0m\u001b[1;33m,\u001b[0m\u001b[0msplitter\u001b[0m\u001b[1;33m=\u001b[0m\u001b[0my\u001b[0m\u001b[1;33m,\u001b[0m\u001b[0mmax_depth\u001b[0m\u001b[1;33m=\u001b[0m\u001b[0mx\u001b[0m\u001b[1;33m,\u001b[0m\u001b[0mmin_samples_split\u001b[0m\u001b[1;33m=\u001b[0m\u001b[0mw\u001b[0m\u001b[1;33m,\u001b[0m\u001b[0mmin_samples_leaf\u001b[0m\u001b[1;33m=\u001b[0m\u001b[0mv\u001b[0m\u001b[1;33m,\u001b[0m\u001b[0mmin_weight_fraction_leaf\u001b[0m\u001b[1;33m=\u001b[0m\u001b[1;36m0.5\u001b[0m\u001b[1;33m,\u001b[0m\u001b[0mmax_features\u001b[0m\u001b[1;33m=\u001b[0m\u001b[0mt\u001b[0m\u001b[1;33m,\u001b[0m\u001b[0mmax_leaf_nodes\u001b[0m\u001b[1;33m=\u001b[0m\u001b[0ms\u001b[0m\u001b[1;33m,\u001b[0m\u001b[0mmin_impurity_decrease\u001b[0m\u001b[1;33m=\u001b[0m\u001b[0mr\u001b[0m\u001b[1;33m)\u001b[0m\u001b[1;33m\u001b[0m\u001b[1;33m\u001b[0m\u001b[0m\n\u001b[1;32m---> 24\u001b[1;33m                                 \u001b[0marbol\u001b[0m\u001b[1;33m.\u001b[0m\u001b[0mfit\u001b[0m\u001b[1;33m(\u001b[0m\u001b[0mVal_x_train\u001b[0m\u001b[1;33m,\u001b[0m\u001b[0mVal_y_train\u001b[0m\u001b[1;33m)\u001b[0m\u001b[1;33m\u001b[0m\u001b[1;33m\u001b[0m\u001b[0m\n\u001b[0m\u001b[0;32m     25\u001b[0m                                 \u001b[1;31m# Obtengo el Accuracy, para eso primero debo predecir valores de y solo con el val_x_test y luego a\u001b[0m\u001b[1;33m\u001b[0m\u001b[1;33m\u001b[0m\u001b[0m\n\u001b[0;32m     26\u001b[0m                                 \u001b[1;31m#este resultado lo comparo con val_y_test con la instruccion accuracy_score\u001b[0m\u001b[1;33m\u001b[0m\u001b[1;33m\u001b[0m\u001b[0m\n",
      "\u001b[1;32m~\\anaconda3\\lib\\site-packages\\sklearn\\tree\\_classes.py\u001b[0m in \u001b[0;36mfit\u001b[1;34m(self, X, y, sample_weight, check_input, X_idx_sorted)\u001b[0m\n\u001b[0;32m    901\u001b[0m         \"\"\"\n\u001b[0;32m    902\u001b[0m \u001b[1;33m\u001b[0m\u001b[0m\n\u001b[1;32m--> 903\u001b[1;33m         super().fit(\n\u001b[0m\u001b[0;32m    904\u001b[0m             \u001b[0mX\u001b[0m\u001b[1;33m,\u001b[0m \u001b[0my\u001b[0m\u001b[1;33m,\u001b[0m\u001b[1;33m\u001b[0m\u001b[1;33m\u001b[0m\u001b[0m\n\u001b[0;32m    905\u001b[0m             \u001b[0msample_weight\u001b[0m\u001b[1;33m=\u001b[0m\u001b[0msample_weight\u001b[0m\u001b[1;33m,\u001b[0m\u001b[1;33m\u001b[0m\u001b[1;33m\u001b[0m\u001b[0m\n",
      "\u001b[1;32m~\\anaconda3\\lib\\site-packages\\sklearn\\tree\\_classes.py\u001b[0m in \u001b[0;36mfit\u001b[1;34m(self, X, y, sample_weight, check_input, X_idx_sorted)\u001b[0m\n\u001b[0;32m    271\u001b[0m             \u001b[0mmax_features\u001b[0m \u001b[1;33m=\u001b[0m \u001b[0mself\u001b[0m\u001b[1;33m.\u001b[0m\u001b[0mmax_features\u001b[0m\u001b[1;33m\u001b[0m\u001b[1;33m\u001b[0m\u001b[0m\n\u001b[0;32m    272\u001b[0m         \u001b[1;32melse\u001b[0m\u001b[1;33m:\u001b[0m  \u001b[1;31m# float\u001b[0m\u001b[1;33m\u001b[0m\u001b[1;33m\u001b[0m\u001b[0m\n\u001b[1;32m--> 273\u001b[1;33m             \u001b[1;32mif\u001b[0m \u001b[0mself\u001b[0m\u001b[1;33m.\u001b[0m\u001b[0mmax_features\u001b[0m \u001b[1;33m>\u001b[0m \u001b[1;36m0.0\u001b[0m\u001b[1;33m:\u001b[0m\u001b[1;33m\u001b[0m\u001b[1;33m\u001b[0m\u001b[0m\n\u001b[0m\u001b[0;32m    274\u001b[0m                 max_features = max(1,\n\u001b[0;32m    275\u001b[0m                                    int(self.max_features * self.n_features_))\n",
      "\u001b[1;31mTypeError\u001b[0m: '>' not supported between instances of 'range' and 'float'"
     ]
    }
   ],
   "source": [
    "from sklearn.tree import DecisionTreeClassifier\n",
    "from sklearn.metrics import accuracy_score\n",
    "varCriterion= ['gini', 'entropy', 'log_loss']\n",
    "varSplitter=['best', 'random']\n",
    "varMax_depth = range(0,100)\n",
    "VarMin_samples_split= range(2,10)\n",
    "VarMin_samples_leaf= range(1,10)\n",
    "\n",
    "VarMax_features=[range(0,11),'sqrt','log2']\n",
    "VarMax_leaf_nodes=range(2,10)\n",
    "VarMin_impurity_decrease= range(0,10)\n",
    "acmax=0\n",
    "lista=[]\n",
    "for z in varCriterion:\n",
    "    for y in varSplitter:\n",
    "        for x in varMax_depth:\n",
    "            for w in VarMin_samples_split:\n",
    "                for v in VarMin_samples_leaf:\n",
    "                    for t in VarMax_features:\n",
    "                        for s in VarMax_leaf_nodes:\n",
    "                            for r in VarMin_impurity_decrease:\n",
    "                                # Creo el modelo de KNN y lo entreno con los valores de val_x_train y val_y_train\n",
    "                                arbol=DecisionTreeClassifier(random_state=123, criterion=z,splitter=y,max_depth=x,min_samples_split=w,min_samples_leaf=v,min_weight_fraction_leaf=0.5,max_features=t,max_leaf_nodes=s,min_impurity_decrease=r)\n",
    "                                arbol.fit(Val_x_train,Val_y_train)\n",
    "                                # Obtengo el Accuracy, para eso primero debo predecir valores de y solo con el val_x_test y luego a \n",
    "                                #este resultado lo comparo con val_y_test con la instruccion accuracy_score\n",
    "                                y_pred= arbol.predict(Val_x_test)\n",
    "                                acarbol=accuracy_score(Val_y_test,y_pred)\n",
    "                                acmax = ac\n",
    "                                vecinomax=n\n",
    "                                Weightsmax=j\n",
    "                                Algorithmmax=x\n",
    "                                Pmax=m\n",
    "                                lista.append([acmax,vecinomax,Weightsmax,Algorithmmax,Pmax])\n",
    "lista\n",
    "knnvaldf=knnvaldf.append(lista, ignore_index=True)"
   ]
  },
  {
   "cell_type": "code",
   "execution_count": null,
   "metadata": {},
   "outputs": [],
   "source": []
  },
  {
   "cell_type": "code",
   "execution_count": null,
   "metadata": {},
   "outputs": [],
   "source": []
  },
  {
   "cell_type": "code",
   "execution_count": null,
   "metadata": {},
   "outputs": [],
   "source": []
  },
  {
   "cell_type": "markdown",
   "metadata": {},
   "source": [
    "#### Modelo de KNN"
   ]
  },
  {
   "cell_type": "markdown",
   "metadata": {},
   "source": [
    "Para encontrar los mejores 10 mejores hiperparametros a usar ys u respectivo accuracy, generaré un for anidado, con el que cada nivel de for contendrá una lista que contiene los posibles valores de los hiperparametros, para luego generar el modelo, probar cada uno de los hiperparametros.\n",
    "Luego de crear el modelo con los hiperparametros, entrenará con los valores de val_x_train y val_y_train, luego predecirá los valores de val_x_test y comparará a estos valores obtenidos con los de val_y_test, generando así el accuracy del modelo usado. Todas las combinaciones posibles se guardarán en una lista."
   ]
  },
  {
   "cell_type": "markdown",
   "metadata": {},
   "source": [
    "Para encontrar los 10 mejores valores, generaré un DataFrame vacío y le cargaré las listas obtenidas, luego lo ordenaré por la columna de accuracy de orden descendente para así obtener los valores mas grandes."
   ]
  },
  {
   "cell_type": "code",
   "execution_count": 91,
   "metadata": {},
   "outputs": [],
   "source": [
    "knnvaldf=pd.DataFrame()"
   ]
  },
  {
   "cell_type": "code",
   "execution_count": 92,
   "metadata": {},
   "outputs": [
    {
     "data": {
      "text/html": [
       "<div>\n",
       "<style scoped>\n",
       "    .dataframe tbody tr th:only-of-type {\n",
       "        vertical-align: middle;\n",
       "    }\n",
       "\n",
       "    .dataframe tbody tr th {\n",
       "        vertical-align: top;\n",
       "    }\n",
       "\n",
       "    .dataframe thead th {\n",
       "        text-align: right;\n",
       "    }\n",
       "</style>\n",
       "<table border=\"1\" class=\"dataframe\">\n",
       "  <thead>\n",
       "    <tr style=\"text-align: right;\">\n",
       "      <th></th>\n",
       "    </tr>\n",
       "  </thead>\n",
       "  <tbody>\n",
       "  </tbody>\n",
       "</table>\n",
       "</div>"
      ],
      "text/plain": [
       "Empty DataFrame\n",
       "Columns: []\n",
       "Index: []"
      ]
     },
     "execution_count": 92,
     "metadata": {},
     "output_type": "execute_result"
    }
   ],
   "source": [
    "knnvaldf"
   ]
  },
  {
   "cell_type": "code",
   "execution_count": 93,
   "metadata": {},
   "outputs": [],
   "source": [
    "from sklearn.neighbors import KNeighborsClassifier\n",
    "from sklearn.metrics import accuracy_score\n",
    "n_range= range(5,100)\n",
    "varWeights=[\"uniform\", \"distance\"]\n",
    "varAlgorithm = [\"auto\", \"ball_tree\", \"kd_tree\", \"brute\"]\n",
    "VarP= [1,2]\n",
    "acmax=0\n",
    "lista=[]\n",
    "for n in n_range:\n",
    "    for j in varWeights:\n",
    "        for x in varAlgorithm:\n",
    "            for m in VarP:\n",
    "                # Creo el modelo de KNN y lo entreno con los valores de val_x_train y val_y_train\n",
    "                knn=KNeighborsClassifier(n_neighbors=n,weights=j, algorithm=x, p= m, leaf_size=30)\n",
    "                knn.fit(Val_x_train,Val_y_train)\n",
    "                # Obtengo el Accuracy, para eso primero debo predecir valores de y solo con el val_x_test y luego a \n",
    "                #este resultado lo comparo con val_y_test con la instruccion accuracy_score\n",
    "                predknn_y=knn.predict(Val_x_test)\n",
    "                ac= accuracy_score(Val_y_test,predknn_y)\n",
    "                acmax = ac\n",
    "                vecinomax=n\n",
    "                Weightsmax=j\n",
    "                Algorithmmax=x\n",
    "                Pmax=m\n",
    "                lista.append([acmax,vecinomax,Weightsmax,Algorithmmax,Pmax])\n",
    "lista\n",
    "knnvaldf=knnvaldf.append(lista, ignore_index=True)"
   ]
  },
  {
   "cell_type": "code",
   "execution_count": 94,
   "metadata": {},
   "outputs": [],
   "source": [
    "n_range= range(100,200)\n",
    "varWeights=[\"uniform\", \"distance\"]\n",
    "varAlgorithm = [\"auto\", \"ball_tree\", \"kd_tree\", \"brute\"]\n",
    "VarP= [1,2]\n",
    "acmax=0\n",
    "lista=[]\n",
    "for n in n_range:\n",
    "    for j in varWeights:\n",
    "        for x in varAlgorithm:\n",
    "            for m in VarP:\n",
    "                knn=KNeighborsClassifier(n_neighbors=n,weights=j, algorithm=x, p= m, leaf_size=30)\n",
    "                knn.fit(Val_x_train,Val_y_train)\n",
    "                predknn_y=knn.predict(Val_x_test)\n",
    "                ac= accuracy_score(Val_y_test,predknn_y)\n",
    "                acmax = ac\n",
    "                vecinomax=n\n",
    "                Weightsmax=j\n",
    "                Algorithmmax=x\n",
    "                Pmax=m\n",
    "                lista.append([acmax,vecinomax,Weightsmax,Algorithmmax,Pmax])\n",
    "lista\n",
    "knnvaldf=knnvaldf.append(lista, ignore_index=True)"
   ]
  },
  {
   "cell_type": "code",
   "execution_count": 95,
   "metadata": {},
   "outputs": [],
   "source": [
    "n_range= range(200,300)\n",
    "varWeights=[\"uniform\", \"distance\"]\n",
    "varAlgorithm = [\"auto\", \"ball_tree\", \"kd_tree\", \"brute\"]\n",
    "VarP= [1,2]\n",
    "acmax=0\n",
    "lista=[]\n",
    "for n in n_range:\n",
    "    for j in varWeights:\n",
    "        for x in varAlgorithm:\n",
    "            for m in VarP:\n",
    "                knn=KNeighborsClassifier(n_neighbors=n,weights=j, algorithm=x, p= m, leaf_size=30)\n",
    "                knn.fit(Val_x_train,Val_y_train)\n",
    "                predknn_y=knn.predict(Val_x_test)\n",
    "                ac= accuracy_score(Val_y_test,predknn_y)\n",
    "                acmax = ac\n",
    "                vecinomax=n\n",
    "                Weightsmax=j\n",
    "                Algorithmmax=x\n",
    "                Pmax=m\n",
    "                lista.append([acmax,vecinomax,Weightsmax,Algorithmmax,Pmax])\n",
    "lista\n",
    "knnvaldf=knnvaldf.append(lista, ignore_index=True)"
   ]
  },
  {
   "cell_type": "code",
   "execution_count": 96,
   "metadata": {},
   "outputs": [],
   "source": [
    "n_range= range(300,400)\n",
    "varWeights=[\"uniform\", \"distance\"]\n",
    "varAlgorithm = [\"auto\", \"ball_tree\", \"kd_tree\", \"brute\"]\n",
    "VarP= [1,2]\n",
    "acmax=0\n",
    "lista=[]\n",
    "for n in n_range:\n",
    "    for j in varWeights:\n",
    "        for x in varAlgorithm:\n",
    "            for m in VarP:\n",
    "                knn=KNeighborsClassifier(n_neighbors=n,weights=j, algorithm=x, p= m, leaf_size=30)\n",
    "                knn.fit(Val_x_train,Val_y_train)\n",
    "                predknn_y=knn.predict(Val_x_test)\n",
    "                ac= accuracy_score(Val_y_test,predknn_y)\n",
    "                acmax = ac\n",
    "                vecinomax=n\n",
    "                Weightsmax=j\n",
    "                Algorithmmax=x\n",
    "                Pmax=m\n",
    "                lista.append([acmax,vecinomax,Weightsmax,Algorithmmax,Pmax])\n",
    "lista\n",
    "knnvaldf=knnvaldf.append(lista, ignore_index=True)"
   ]
  },
  {
   "cell_type": "code",
   "execution_count": 97,
   "metadata": {},
   "outputs": [],
   "source": [
    "n_range= range(400,500)\n",
    "varWeights=[\"uniform\", \"distance\"]\n",
    "varAlgorithm = [\"auto\", \"ball_tree\", \"kd_tree\", \"brute\"]\n",
    "VarP= [1,2]\n",
    "acmax=0\n",
    "lista=[]\n",
    "for n in n_range:\n",
    "    for j in varWeights:\n",
    "        for x in varAlgorithm:\n",
    "            for m in VarP:\n",
    "                knn=KNeighborsClassifier(n_neighbors=n,weights=j, algorithm=x, p= m, leaf_size=30)\n",
    "                knn.fit(Val_x_train,Val_y_train)\n",
    "                predknn_y=knn.predict(Val_x_test)\n",
    "                ac= accuracy_score(Val_y_test,predknn_y)\n",
    "                acmax = ac\n",
    "                vecinomax=n\n",
    "                Weightsmax=j\n",
    "                Algorithmmax=x\n",
    "                Pmax=m\n",
    "                lista.append([acmax,vecinomax,Weightsmax,Algorithmmax,Pmax])\n",
    "lista\n",
    "knnvaldf=knnvaldf.append(lista, ignore_index=True)"
   ]
  },
  {
   "cell_type": "code",
   "execution_count": 100,
   "metadata": {
    "slideshow": {
     "slide_type": "-"
    }
   },
   "outputs": [
    {
     "data": {
      "text/html": [
       "<div>\n",
       "<style scoped>\n",
       "    .dataframe tbody tr th:only-of-type {\n",
       "        vertical-align: middle;\n",
       "    }\n",
       "\n",
       "    .dataframe tbody tr th {\n",
       "        vertical-align: top;\n",
       "    }\n",
       "\n",
       "    .dataframe thead th {\n",
       "        text-align: right;\n",
       "    }\n",
       "</style>\n",
       "<table border=\"1\" class=\"dataframe\">\n",
       "  <thead>\n",
       "    <tr style=\"text-align: right;\">\n",
       "      <th></th>\n",
       "      <th>acc</th>\n",
       "      <th>vecinomax</th>\n",
       "      <th>Weightsmax</th>\n",
       "      <th>Algorithmmax</th>\n",
       "      <th>Pmax</th>\n",
       "    </tr>\n",
       "  </thead>\n",
       "  <tbody>\n",
       "    <tr>\n",
       "      <th>7912</th>\n",
       "      <td>0.576531</td>\n",
       "      <td>499</td>\n",
       "      <td>distance</td>\n",
       "      <td>auto</td>\n",
       "      <td>1</td>\n",
       "    </tr>\n",
       "    <tr>\n",
       "      <th>7914</th>\n",
       "      <td>0.576531</td>\n",
       "      <td>499</td>\n",
       "      <td>distance</td>\n",
       "      <td>ball_tree</td>\n",
       "      <td>1</td>\n",
       "    </tr>\n",
       "    <tr>\n",
       "      <th>7916</th>\n",
       "      <td>0.576531</td>\n",
       "      <td>499</td>\n",
       "      <td>distance</td>\n",
       "      <td>kd_tree</td>\n",
       "      <td>1</td>\n",
       "    </tr>\n",
       "    <tr>\n",
       "      <th>7918</th>\n",
       "      <td>0.576531</td>\n",
       "      <td>499</td>\n",
       "      <td>distance</td>\n",
       "      <td>brute</td>\n",
       "      <td>1</td>\n",
       "    </tr>\n",
       "    <tr>\n",
       "      <th>2888</th>\n",
       "      <td>0.576531</td>\n",
       "      <td>185</td>\n",
       "      <td>distance</td>\n",
       "      <td>auto</td>\n",
       "      <td>1</td>\n",
       "    </tr>\n",
       "    <tr>\n",
       "      <th>2890</th>\n",
       "      <td>0.576531</td>\n",
       "      <td>185</td>\n",
       "      <td>distance</td>\n",
       "      <td>ball_tree</td>\n",
       "      <td>1</td>\n",
       "    </tr>\n",
       "    <tr>\n",
       "      <th>2892</th>\n",
       "      <td>0.576531</td>\n",
       "      <td>185</td>\n",
       "      <td>distance</td>\n",
       "      <td>kd_tree</td>\n",
       "      <td>1</td>\n",
       "    </tr>\n",
       "    <tr>\n",
       "      <th>2894</th>\n",
       "      <td>0.576531</td>\n",
       "      <td>185</td>\n",
       "      <td>distance</td>\n",
       "      <td>brute</td>\n",
       "      <td>1</td>\n",
       "    </tr>\n",
       "    <tr>\n",
       "      <th>7896</th>\n",
       "      <td>0.575255</td>\n",
       "      <td>498</td>\n",
       "      <td>distance</td>\n",
       "      <td>auto</td>\n",
       "      <td>1</td>\n",
       "    </tr>\n",
       "    <tr>\n",
       "      <th>7898</th>\n",
       "      <td>0.575255</td>\n",
       "      <td>498</td>\n",
       "      <td>distance</td>\n",
       "      <td>ball_tree</td>\n",
       "      <td>1</td>\n",
       "    </tr>\n",
       "  </tbody>\n",
       "</table>\n",
       "</div>"
      ],
      "text/plain": [
       "           acc  vecinomax Weightsmax Algorithmmax  Pmax\n",
       "7912  0.576531        499   distance         auto     1\n",
       "7914  0.576531        499   distance    ball_tree     1\n",
       "7916  0.576531        499   distance      kd_tree     1\n",
       "7918  0.576531        499   distance        brute     1\n",
       "2888  0.576531        185   distance         auto     1\n",
       "2890  0.576531        185   distance    ball_tree     1\n",
       "2892  0.576531        185   distance      kd_tree     1\n",
       "2894  0.576531        185   distance        brute     1\n",
       "7896  0.575255        498   distance         auto     1\n",
       "7898  0.575255        498   distance    ball_tree     1"
      ]
     },
     "execution_count": 100,
     "metadata": {},
     "output_type": "execute_result"
    }
   ],
   "source": [
    "knnvaldf.columns= ['acc','vecinomax','Weightsmax','Algorithmmax','Pmax']\n",
    "knnvaldf.sort_values(by=['acc','vecinomax'], ascending=False).head(10)"
   ]
  },
  {
   "cell_type": "markdown",
   "metadata": {},
   "source": [
    "Podemos apreciar que el mejor accuracy posible con el modelo de KNN es de 0.576531"
   ]
  },
  {
   "cell_type": "code",
   "execution_count": null,
   "metadata": {},
   "outputs": [],
   "source": []
  }
 ],
 "metadata": {
  "celltoolbar": "Raw Cell Format",
  "colab": {
   "collapsed_sections": [],
   "name": "1er_Parcial_AA1-Práctico.ipynb",
   "provenance": []
  },
  "hide_input": false,
  "interpreter": {
   "hash": "ab2626a3f7ab06f191ab5bb1559a4433531d354e622cd9a2bbb40492787a98c9"
  },
  "kernelspec": {
   "display_name": "Python 3 (ipykernel)",
   "language": "python",
   "name": "python3"
  },
  "language_info": {
   "codemirror_mode": {
    "name": "ipython",
    "version": 3
   },
   "file_extension": ".py",
   "mimetype": "text/x-python",
   "name": "python",
   "nbconvert_exporter": "python",
   "pygments_lexer": "ipython3",
   "version": "3.9.7"
  },
  "toc": {
   "base_numbering": 1,
   "nav_menu": {},
   "number_sections": true,
   "sideBar": true,
   "skip_h1_title": true,
   "title_cell": "Tabla de Contenidos",
   "title_sidebar": "Contenidos",
   "toc_cell": false,
   "toc_position": {
    "height": "calc(100% - 180px)",
    "left": "10px",
    "top": "150px",
    "width": "165px"
   },
   "toc_section_display": true,
   "toc_window_display": true
  }
 },
 "nbformat": 4,
 "nbformat_minor": 1
}
